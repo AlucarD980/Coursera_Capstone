{
  "nbformat": 4,
  "nbformat_minor": 0,
  "metadata": {
    "colab": {
      "name": "Capstone_Project_Course.ipynb",
      "provenance": [],
      "authorship_tag": "ABX9TyMSm3+CAL03OKmlU4mL8v3k",
      "include_colab_link": true
    },
    "kernelspec": {
      "name": "python3",
      "display_name": "Python 3"
    }
  },
  "cells": [
    {
      "cell_type": "markdown",
      "metadata": {
        "id": "view-in-github",
        "colab_type": "text"
      },
      "source": [
        "<a href=\"https://colab.research.google.com/github/AlucarD980/Coursera_Capstone/blob/main/Capstone_Project_Course.ipynb\" target=\"_parent\"><img src=\"https://colab.research.google.com/assets/colab-badge.svg\" alt=\"Open In Colab\"/></a>"
      ]
    },
    {
      "cell_type": "markdown",
      "metadata": {
        "id": "Kjh_X3paIMdJ"
      },
      "source": [
        "### **Capstone Project**\r\n",
        "\r\n",
        "This workbook will be used as parto of the practical work for Capstone Project Course"
      ]
    },
    {
      "cell_type": "code",
      "metadata": {
        "id": "DOA-rVYMIfie"
      },
      "source": [
        "import pandas as pd\r\n",
        "import numpy as np"
      ],
      "execution_count": 2,
      "outputs": []
    },
    {
      "cell_type": "code",
      "metadata": {
        "colab": {
          "base_uri": "https://localhost:8080/"
        },
        "id": "O6zwytPDIwRC",
        "outputId": "221972c2-0127-4a07-b82d-8d4bf80f2a28"
      },
      "source": [
        "print(\"Hello Capstone Project Course\")"
      ],
      "execution_count": 3,
      "outputs": [
        {
          "output_type": "stream",
          "text": [
            "Hello Capstone Project Course\n"
          ],
          "name": "stdout"
        }
      ]
    },
    {
      "cell_type": "code",
      "metadata": {
        "id": "PhkjgFWJI3RH"
      },
      "source": [
        ""
      ],
      "execution_count": null,
      "outputs": []
    }
  ]
}